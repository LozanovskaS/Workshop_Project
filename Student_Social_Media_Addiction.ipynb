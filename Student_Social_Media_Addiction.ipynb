{
 "cells": [
  {
   "cell_type": "markdown",
   "id": "fb44082c",
   "metadata": {},
   "source": [
    "# **Student Social Media Addiction EDA**"
   ]
  },
  {
   "cell_type": "markdown",
   "id": "11c79cec",
   "metadata": {},
   "source": [
    "## **1. Introduction**\n",
    "\n",
    "### **What dataset are you looking at?**\n",
    "This analysis examines the \"Social Media Addiction vs Relationships\" dataset created by Adil Shamim and published on Kaggle. The dataset focuses on students' social media addiction patterns and their correlation with personal relationships, providing a comprehensive cross-country survey of usage behaviors and their impacts.\n",
    "\n",
    "### **Where/how was it created?**\n",
    "The dataset was compiled through a structured survey methodology that collected data from students across multiple countries. The data collection process involved gathering information about:\n",
    "\n",
    "Social media usage patterns - Time spent on various platforms, frequency of use, and engagement behaviors\n",
    "Addiction indicators - Compulsive usage patterns, withdrawal symptoms, and behavioral changes\n",
    "Relationship metrics - Quality of personal relationships, social interactions, and interpersonal communication patterns\n",
    "Academic performance indicators - How social media usage correlates with educational outcomes\n",
    "Demographic information - Age, gender, geographic location, and educational background\n",
    "\n",
    "The survey was designed to capture both quantitative metrics (usage hours, frequency scores) and qualitative assessments (relationship satisfaction, perceived impact on well-being).\n",
    "\n",
    "### **What questions will be asked?**\n",
    "This dataset enables investigation of several critical research questions:\n",
    "\n",
    "Primary Research Questions:\n",
    "\n",
    "- Correlation Analysis: What is the relationship between social media addiction levels and the quality of personal relationships among students?\n",
    "\n",
    "- Usage Pattern Impact: How do different social media usage patterns (passive vs. active engagement) affect interpersonal relationship satisfaction?\n",
    "\n",
    "- Cross-Cultural Variations: Are there significant differences in social media addiction patterns and their relationship impacts across different countries and cultures?\n",
    "\n",
    "- Academic Performance Connection: Does social media addiction correlate with decreased academic performance, and does this impact affect relationship quality?\n",
    "\n",
    "Secondary Research Questions:\n",
    "\n",
    "- Gender and Age Factors: Do social media addiction patterns and their relationship impacts vary significantly by demographic factors?\n",
    "\n",
    "- Platform-Specific Effects: Do different social media platforms (Instagram, TikTok, Facebook, etc.) have varying impacts on relationship quality?\n",
    "\n",
    "- Intervention Insights: What usage thresholds or patterns could indicate when social media use becomes problematic for relationship health?\n",
    "\n",
    "- Predictive Modeling: Can we develop models to predict relationship satisfaction based on social media usage patterns and addiction indicators?\n",
    "\n",
    "This dataset provides valuable insights into the modern digital landscape's impact on young adults' social development and interpersonal connections, offering data-driven perspectives on a increasingly relevant social phenomenon."
   ]
  },
  {
   "cell_type": "markdown",
   "id": "0db4888f",
   "metadata": {},
   "source": [
    "## 2. Cleaning and Organizing Data"
   ]
  },
  {
   "cell_type": "code",
   "execution_count": 8,
   "id": "ed89c454",
   "metadata": {},
   "outputs": [
    {
     "name": "stdout",
     "output_type": "stream",
     "text": [
      "<class 'pandas.core.frame.DataFrame'>\n",
      "RangeIndex: 20640 entries, 0 to 20639\n",
      "Data columns (total 10 columns):\n",
      " #   Column              Non-Null Count  Dtype  \n",
      "---  ------              --------------  -----  \n",
      " 0   longitude           20640 non-null  float64\n",
      " 1   latitude            20640 non-null  float64\n",
      " 2   housing_median_age  20640 non-null  float64\n",
      " 3   total_rooms         20640 non-null  float64\n",
      " 4   total_bedrooms      20433 non-null  float64\n",
      " 5   population          20640 non-null  float64\n",
      " 6   households          20640 non-null  float64\n",
      " 7   median_income       20640 non-null  float64\n",
      " 8   median_house_value  20640 non-null  float64\n",
      " 9   ocean_proximity     20640 non-null  object \n",
      "dtypes: float64(9), object(1)\n",
      "memory usage: 1.6+ MB\n"
     ]
    },
    {
     "data": {
      "text/plain": [
       "((20640, 10),\n",
       " Index(['longitude', 'latitude', 'housing_median_age', 'total_rooms',\n",
       "        'total_bedrooms', 'population', 'households', 'median_income',\n",
       "        'median_house_value', 'ocean_proximity'],\n",
       "       dtype='object'),\n",
       "    longitude  latitude  housing_median_age  total_rooms  total_bedrooms  \\\n",
       " 0    -122.23     37.88                41.0        880.0           129.0   \n",
       " 1    -122.22     37.86                21.0       7099.0          1106.0   \n",
       " 2    -122.24     37.85                52.0       1467.0           190.0   \n",
       " 3    -122.25     37.85                52.0       1274.0           235.0   \n",
       " 4    -122.25     37.85                52.0       1627.0           280.0   \n",
       " \n",
       "    population  households  median_income  median_house_value ocean_proximity  \n",
       " 0       322.0       126.0         8.3252            452600.0        NEAR BAY  \n",
       " 1      2401.0      1138.0         8.3014            358500.0        NEAR BAY  \n",
       " 2       496.0       177.0         7.2574            352100.0        NEAR BAY  \n",
       " 3       558.0       219.0         5.6431            341300.0        NEAR BAY  \n",
       " 4       565.0       259.0         3.8462            342200.0        NEAR BAY  )"
      ]
     },
     "execution_count": 8,
     "metadata": {},
     "output_type": "execute_result"
    }
   ],
   "source": [
    "import pandas as pd\n",
    "\n",
    "# Loading the data from the .csv file\n",
    "file_path = 'data/housing.csv'\n",
    "df = pd.read_csv(file_path)\n",
    "\n",
    "df_info = df.info()\n",
    "df_preview = df.head()\n",
    "\n",
    "df.shape, df.columns, df_preview"
   ]
  },
  {
   "cell_type": "markdown",
   "id": "33aa9192",
   "metadata": {},
   "source": [
    "### Checking for missing values"
   ]
  },
  {
   "cell_type": "code",
   "execution_count": 9,
   "id": "815a05d4",
   "metadata": {},
   "outputs": [
    {
     "data": {
      "text/plain": [
       "longitude             False\n",
       "latitude              False\n",
       "housing_median_age    False\n",
       "total_rooms           False\n",
       "total_bedrooms         True\n",
       "population            False\n",
       "households            False\n",
       "median_income         False\n",
       "median_house_value    False\n",
       "ocean_proximity       False\n",
       "dtype: bool"
      ]
     },
     "execution_count": 9,
     "metadata": {},
     "output_type": "execute_result"
    }
   ],
   "source": [
    "df.isna().any()"
   ]
  },
  {
   "cell_type": "markdown",
   "id": "dbfc147f",
   "metadata": {},
   "source": [
    "## 3. Visualizations"
   ]
  },
  {
   "cell_type": "markdown",
   "id": "b6202ee9",
   "metadata": {},
   "source": [
    "## 4. Descriptive Analysis"
   ]
  },
  {
   "cell_type": "markdown",
   "id": "b6a990c1",
   "metadata": {},
   "source": [
    "## 5. Conclusion"
   ]
  }
 ],
 "metadata": {
  "kernelspec": {
   "display_name": ".venv",
   "language": "python",
   "name": "python3"
  },
  "language_info": {
   "codemirror_mode": {
    "name": "ipython",
    "version": 3
   },
   "file_extension": ".py",
   "mimetype": "text/x-python",
   "name": "python",
   "nbconvert_exporter": "python",
   "pygments_lexer": "ipython3",
   "version": "3.12.10"
  }
 },
 "nbformat": 4,
 "nbformat_minor": 5
}
