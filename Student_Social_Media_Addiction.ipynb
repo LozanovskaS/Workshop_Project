{
 "cells": [
  {
   "cell_type": "markdown",
   "id": "fb44082c",
   "metadata": {},
   "source": [
    "# Student Social Media Addiction EDA"
   ]
  },
  {
   "cell_type": "markdown",
   "id": "11c79cec",
   "metadata": {},
   "source": [
    "## 1. Introduction\n",
    "\n",
    "### **What dataset are you looking at?**\n",
    "This analysis examines the California Housing Prices dataset, derived from median house prices for California districts based on the 1990 census. The dataset, originally published by Cam Nugent on Kaggle and widely used in the machine learning community, represents one of the most popular benchmark datasets for regression analysis and predictive modeling.\n",
    "\n",
    "### **Where/how was it created?**\n",
    "The dataset originates from the StatLib repository and is based on the 1990 California census data. It consists of 20,640 samples and 8 feature variables, with each record representing aggregated housing information for a specific census block group (district) within California.\n",
    "Data Collection Methodology:\n",
    "The dataset was compiled through systematic census data collection, where information was gathered at the block group level - the smallest geographical unit for which the U.S. Census Bureau publishes sample data. Each record represents statistical aggregations (medians and averages) for households within these geographic districts.\n",
    "Key Features Included:\n",
    "The dataset contains 8 primary features: MedInc (median income), HouseAge, AveRooms (average rooms), AveBedrms (average bedrooms), Population, and AveOccup (average occupancy), along with geographical proximity information and the target variable - median house value.\n",
    "\n",
    "### **What questions will be asked?**\n",
    "This dataset enables investigation of multiple research questions relevant to real estate analytics, urban planning, and socioeconomic studies:\n",
    "\n",
    "Primary Research Questions:\n",
    "\n",
    "- Price Prediction Modeling: Can we build an accurate machine learning model to predict median housing prices based on demographic and housing characteristics?\n",
    "\n",
    "- Feature Importance Analysis: Which factors have the strongest correlation with housing prices? How does median income correlate with housing values across different districts?\n",
    "\n",
    "- Geographic Price Variations: How do housing prices vary across different regions of California, and what patterns emerge based on proximity to the ocean or urban centers?\n",
    "\n",
    "- Socioeconomic Housing Relationships: What is the relationship between population density, average household size, and housing affordability?\n",
    "\n",
    "Secondary Research Questions:\n",
    "\n",
    "- Housing Density Analysis: How do average rooms per household and average occupancy rates affect property values?\n",
    "\n",
    "- Age and Value Correlation: Does the age of housing stock significantly impact median home values across districts?\n",
    "\n",
    "- Market Segmentation: Can we identify distinct housing market segments based on demographic and structural characteristics?\n",
    "\n",
    "- Outlier Investigation: What districts represent outliers in terms of price relative to their characteristics, and what might explain these anomalies?\n",
    "\n",
    "This dataset serves as an excellent foundation for exploring regression techniques, feature engineering, data preprocessing, and understanding the complex relationships between socioeconomic factors and housing markets in one of America's most dynamic real estate environments."
   ]
  },
  {
   "cell_type": "markdown",
   "id": "0db4888f",
   "metadata": {},
   "source": [
    "## 2. Cleaning and Organizing Data"
   ]
  },
  {
   "cell_type": "markdown",
   "id": "dbfc147f",
   "metadata": {},
   "source": [
    "## 3. Visualizations"
   ]
  },
  {
   "cell_type": "markdown",
   "id": "b6202ee9",
   "metadata": {},
   "source": [
    "## 4. Descriptive Analysis"
   ]
  },
  {
   "cell_type": "markdown",
   "id": "b6a990c1",
   "metadata": {},
   "source": [
    "## 5. Conclusion"
   ]
  }
 ],
 "metadata": {
  "language_info": {
   "name": "python"
  }
 },
 "nbformat": 4,
 "nbformat_minor": 5
}
