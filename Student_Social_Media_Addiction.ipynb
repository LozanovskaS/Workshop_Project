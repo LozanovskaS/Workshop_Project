{
 "cells": [
  {
   "cell_type": "markdown",
   "id": "fb44082c",
   "metadata": {},
   "source": [
    "# **Student Social Media Addiction EDA**"
   ]
  },
  {
   "cell_type": "markdown",
   "id": "11c79cec",
   "metadata": {},
   "source": [
    "## **1. Introduction**\n",
    "\n",
    "### **What dataset are you looking at?**\n",
    "This analysis examines the \"Social Media Addiction vs Relationships\" dataset created by Adil Shamim and published on Kaggle. The dataset focuses on students' social media addiction patterns and their correlation with personal relationships, providing a comprehensive cross-country survey of usage behaviors and their impacts.\n",
    "\n",
    "### **Where/how was it created?**\n",
    "The dataset was compiled through a structured survey methodology that collected data from students across multiple countries. The data collection process involved gathering information about:\n",
    "\n",
    "Social media usage patterns - Time spent on various platforms, frequency of use, and engagement behaviors\n",
    "Addiction indicators - Compulsive usage patterns, withdrawal symptoms, and behavioral changes\n",
    "Relationship metrics - Quality of personal relationships, social interactions, and interpersonal communication patterns\n",
    "Academic performance indicators - How social media usage correlates with educational outcomes\n",
    "Demographic information - Age, gender, geographic location, and educational background\n",
    "\n",
    "The survey was designed to capture both quantitative metrics (usage hours, frequency scores) and qualitative assessments (relationship satisfaction, perceived impact on well-being).\n",
    "\n",
    "### **What questions will be asked?**\n",
    "This dataset enables investigation of several critical research questions:\n",
    "\n",
    "Primary Research Questions:\n",
    "\n",
    "- Correlation Analysis: What is the relationship between social media addiction levels and the quality of personal relationships among students?\n",
    "\n",
    "- Usage Pattern Impact: How do different social media usage patterns (passive vs. active engagement) affect interpersonal relationship satisfaction?\n",
    "\n",
    "- Cross-Cultural Variations: Are there significant differences in social media addiction patterns and their relationship impacts across different countries and cultures?\n",
    "\n",
    "- Academic Performance Connection: Does social media addiction correlate with decreased academic performance, and does this impact affect relationship quality?\n",
    "\n",
    "Secondary Research Questions:\n",
    "\n",
    "- Gender and Age Factors: Do social media addiction patterns and their relationship impacts vary significantly by demographic factors?\n",
    "\n",
    "- Platform-Specific Effects: Do different social media platforms (Instagram, TikTok, Facebook, etc.) have varying impacts on relationship quality?\n",
    "\n",
    "- Intervention Insights: What usage thresholds or patterns could indicate when social media use becomes problematic for relationship health?\n",
    "\n",
    "- Predictive Modeling: Can we develop models to predict relationship satisfaction based on social media usage patterns and addiction indicators?\n",
    "\n",
    "This dataset provides valuable insights into the modern digital landscape's impact on young adults' social development and interpersonal connections, offering data-driven perspectives on a increasingly relevant social phenomenon."
   ]
  },
  {
   "cell_type": "markdown",
   "id": "0db4888f",
   "metadata": {},
   "source": [
    "## 2. Cleaning and Organizing Data"
   ]
  },
  {
   "cell_type": "markdown",
   "id": "dbfc147f",
   "metadata": {},
   "source": [
    "## 3. Visualizations"
   ]
  },
  {
   "cell_type": "markdown",
   "id": "b6202ee9",
   "metadata": {},
   "source": [
    "## 4. Descriptive Analysis"
   ]
  },
  {
   "cell_type": "markdown",
   "id": "b6a990c1",
   "metadata": {},
   "source": [
    "## 5. Conclusion"
   ]
  }
 ],
 "metadata": {
  "language_info": {
   "name": "python"
  }
 },
 "nbformat": 4,
 "nbformat_minor": 5
}
