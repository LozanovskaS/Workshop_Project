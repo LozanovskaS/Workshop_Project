{
 "cells": [
  {
   "cell_type": "markdown",
   "id": "fb44082c",
   "metadata": {},
   "source": [
    "# Student Social Media Addiction EDA"
   ]
  },
  {
   "cell_type": "markdown",
   "id": "11c79cec",
   "metadata": {},
   "source": [
    "## 1. Introduction"
   ]
  },
  {
   "cell_type": "markdown",
   "id": "0db4888f",
   "metadata": {},
   "source": [
    "## 2. Cleaning and Organizing Data"
   ]
  },
  {
   "cell_type": "markdown",
   "id": "dbfc147f",
   "metadata": {},
   "source": [
    "## 3. Visualizations"
   ]
  },
  {
   "cell_type": "markdown",
   "id": "b6202ee9",
   "metadata": {},
   "source": [
    "## 4. Descriptive Analysis"
   ]
  },
  {
   "cell_type": "markdown",
   "id": "b6a990c1",
   "metadata": {},
   "source": [
    "## 5. Conclusion"
   ]
  }
 ],
 "metadata": {
  "language_info": {
   "name": "python"
  }
 },
 "nbformat": 4,
 "nbformat_minor": 5
}
